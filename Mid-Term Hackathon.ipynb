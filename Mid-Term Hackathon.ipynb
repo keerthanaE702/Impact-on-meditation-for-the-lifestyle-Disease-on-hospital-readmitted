{
 "cells": [
  {
   "cell_type": "code",
   "execution_count": 1,
   "id": "af6befe3",
   "metadata": {},
   "outputs": [],
   "source": [
    "import pandas as pd\n",
    "import numpy as np\n",
    "import matplotlib.pyplot as plt\n",
    "import seaborn as sns\n",
    "from sklearn.preprocessing import LabelEncoder\n",
    "%matplotlib inline"
   ]
  },
  {
   "cell_type": "code",
   "execution_count": 3,
   "id": "d4cc9eb9",
   "metadata": {},
   "outputs": [],
   "source": [
    "# we are reading the csv file\n",
    "data=pd.read_csv('Train.csv')\n",
    "test_data = pd.read_swcsv('test.csv')"
   ]
  },
  {
   "cell_type": "code",
   "execution_count": 4,
   "id": "0f0301e7",
   "metadata": {},
   "outputs": [
    {
     "data": {
      "text/plain": [
       "((66587, 49), (16647, 48))"
      ]
     },
     "execution_count": 4,
     "metadata": {},
     "output_type": "execute_result"
    }
   ],
   "source": [
    "# finding the shape of the data\n",
    "data.shape,test_data.shape"
   ]
  },
  {
   "cell_type": "code",
   "execution_count": 5,
   "id": "2da3f432",
   "metadata": {},
   "outputs": [],
   "source": [
    "data.replace('?',np.nan,inplace=True)\n",
    "test_data.replace('?',np.nan,inplace=True)"
   ]
  },
  {
   "cell_type": "code",
   "execution_count": 6,
   "id": "2b04179c",
   "metadata": {},
   "outputs": [
    {
     "data": {
      "text/html": [
       "<div>\n",
       "<style scoped>\n",
       "    .dataframe tbody tr th:only-of-type {\n",
       "        vertical-align: middle;\n",
       "    }\n",
       "\n",
       "    .dataframe tbody tr th {\n",
       "        vertical-align: top;\n",
       "    }\n",
       "\n",
       "    .dataframe thead th {\n",
       "        text-align: right;\n",
       "    }\n",
       "</style>\n",
       "<table border=\"1\" class=\"dataframe\">\n",
       "  <thead>\n",
       "    <tr style=\"text-align: right;\">\n",
       "      <th></th>\n",
       "      <th>index</th>\n",
       "      <th>encounter_id</th>\n",
       "      <th>patient_id</th>\n",
       "      <th>race</th>\n",
       "      <th>gender</th>\n",
       "      <th>age</th>\n",
       "      <th>weight</th>\n",
       "      <th>time_in_hospital</th>\n",
       "      <th>medical_specialty</th>\n",
       "      <th>num_lab_procedures</th>\n",
       "      <th>...</th>\n",
       "      <th>X19</th>\n",
       "      <th>X20</th>\n",
       "      <th>X21</th>\n",
       "      <th>X22</th>\n",
       "      <th>X23</th>\n",
       "      <th>X24</th>\n",
       "      <th>X25</th>\n",
       "      <th>change</th>\n",
       "      <th>diabetesMed</th>\n",
       "      <th>readmitted</th>\n",
       "    </tr>\n",
       "  </thead>\n",
       "  <tbody>\n",
       "    <tr>\n",
       "      <th>0</th>\n",
       "      <td>69375</td>\n",
       "      <td>197029140</td>\n",
       "      <td>51521940</td>\n",
       "      <td>Hispanic</td>\n",
       "      <td>Male</td>\n",
       "      <td>[80-90)</td>\n",
       "      <td>NaN</td>\n",
       "      <td>4</td>\n",
       "      <td>Emergency/Trauma</td>\n",
       "      <td>39</td>\n",
       "      <td>...</td>\n",
       "      <td>No</td>\n",
       "      <td>No</td>\n",
       "      <td>No</td>\n",
       "      <td>No</td>\n",
       "      <td>No</td>\n",
       "      <td>No</td>\n",
       "      <td>No</td>\n",
       "      <td>No</td>\n",
       "      <td>Yes</td>\n",
       "      <td>1</td>\n",
       "    </tr>\n",
       "    <tr>\n",
       "      <th>1</th>\n",
       "      <td>57272</td>\n",
       "      <td>163571946</td>\n",
       "      <td>92631357</td>\n",
       "      <td>Caucasian</td>\n",
       "      <td>Male</td>\n",
       "      <td>[60-70)</td>\n",
       "      <td>NaN</td>\n",
       "      <td>3</td>\n",
       "      <td>Emergency/Trauma</td>\n",
       "      <td>34</td>\n",
       "      <td>...</td>\n",
       "      <td>No</td>\n",
       "      <td>No</td>\n",
       "      <td>No</td>\n",
       "      <td>No</td>\n",
       "      <td>No</td>\n",
       "      <td>No</td>\n",
       "      <td>No</td>\n",
       "      <td>No</td>\n",
       "      <td>No</td>\n",
       "      <td>0</td>\n",
       "    </tr>\n",
       "    <tr>\n",
       "      <th>2</th>\n",
       "      <td>82347</td>\n",
       "      <td>256497366</td>\n",
       "      <td>30023982</td>\n",
       "      <td>Caucasian</td>\n",
       "      <td>Female</td>\n",
       "      <td>[50-60)</td>\n",
       "      <td>NaN</td>\n",
       "      <td>6</td>\n",
       "      <td>Nephrology</td>\n",
       "      <td>50</td>\n",
       "      <td>...</td>\n",
       "      <td>No</td>\n",
       "      <td>Down</td>\n",
       "      <td>No</td>\n",
       "      <td>No</td>\n",
       "      <td>No</td>\n",
       "      <td>No</td>\n",
       "      <td>No</td>\n",
       "      <td>Ch</td>\n",
       "      <td>Yes</td>\n",
       "      <td>1</td>\n",
       "    </tr>\n",
       "    <tr>\n",
       "      <th>3</th>\n",
       "      <td>89608</td>\n",
       "      <td>289891212</td>\n",
       "      <td>93606021</td>\n",
       "      <td>AfricanAmerican</td>\n",
       "      <td>Female</td>\n",
       "      <td>[70-80)</td>\n",
       "      <td>NaN</td>\n",
       "      <td>5</td>\n",
       "      <td>NaN</td>\n",
       "      <td>63</td>\n",
       "      <td>...</td>\n",
       "      <td>No</td>\n",
       "      <td>Down</td>\n",
       "      <td>No</td>\n",
       "      <td>No</td>\n",
       "      <td>No</td>\n",
       "      <td>No</td>\n",
       "      <td>No</td>\n",
       "      <td>Ch</td>\n",
       "      <td>Yes</td>\n",
       "      <td>1</td>\n",
       "    </tr>\n",
       "    <tr>\n",
       "      <th>4</th>\n",
       "      <td>24091</td>\n",
       "      <td>81873900</td>\n",
       "      <td>23464296</td>\n",
       "      <td>Caucasian</td>\n",
       "      <td>Male</td>\n",
       "      <td>[70-80)</td>\n",
       "      <td>NaN</td>\n",
       "      <td>9</td>\n",
       "      <td>Psychiatry</td>\n",
       "      <td>17</td>\n",
       "      <td>...</td>\n",
       "      <td>No</td>\n",
       "      <td>No</td>\n",
       "      <td>No</td>\n",
       "      <td>No</td>\n",
       "      <td>No</td>\n",
       "      <td>No</td>\n",
       "      <td>No</td>\n",
       "      <td>No</td>\n",
       "      <td>No</td>\n",
       "      <td>1</td>\n",
       "    </tr>\n",
       "  </tbody>\n",
       "</table>\n",
       "<p>5 rows × 49 columns</p>\n",
       "</div>"
      ],
      "text/plain": [
       "   index  encounter_id  patient_id             race  gender      age weight  \\\n",
       "0  69375     197029140    51521940         Hispanic    Male  [80-90)    NaN   \n",
       "1  57272     163571946    92631357        Caucasian    Male  [60-70)    NaN   \n",
       "2  82347     256497366    30023982        Caucasian  Female  [50-60)    NaN   \n",
       "3  89608     289891212    93606021  AfricanAmerican  Female  [70-80)    NaN   \n",
       "4  24091      81873900    23464296        Caucasian    Male  [70-80)    NaN   \n",
       "\n",
       "   time_in_hospital medical_specialty  num_lab_procedures  ...  X19   X20  \\\n",
       "0                 4  Emergency/Trauma                  39  ...   No    No   \n",
       "1                 3  Emergency/Trauma                  34  ...   No    No   \n",
       "2                 6        Nephrology                  50  ...   No  Down   \n",
       "3                 5               NaN                  63  ...   No  Down   \n",
       "4                 9        Psychiatry                  17  ...   No    No   \n",
       "\n",
       "   X21  X22  X23 X24 X25 change diabetesMed  readmitted  \n",
       "0   No   No   No  No  No     No         Yes           1  \n",
       "1   No   No   No  No  No     No          No           0  \n",
       "2   No   No   No  No  No     Ch         Yes           1  \n",
       "3   No   No   No  No  No     Ch         Yes           1  \n",
       "4   No   No   No  No  No     No          No           1  \n",
       "\n",
       "[5 rows x 49 columns]"
      ]
     },
     "execution_count": 6,
     "metadata": {},
     "output_type": "execute_result"
    }
   ],
   "source": [
    "data.head()"
   ]
  },
  {
   "cell_type": "code",
   "execution_count": 7,
   "id": "e1d4dd38",
   "metadata": {},
   "outputs": [
    {
     "data": {
      "text/html": [
       "<div>\n",
       "<style scoped>\n",
       "    .dataframe tbody tr th:only-of-type {\n",
       "        vertical-align: middle;\n",
       "    }\n",
       "\n",
       "    .dataframe tbody tr th {\n",
       "        vertical-align: top;\n",
       "    }\n",
       "\n",
       "    .dataframe thead th {\n",
       "        text-align: right;\n",
       "    }\n",
       "</style>\n",
       "<table border=\"1\" class=\"dataframe\">\n",
       "  <thead>\n",
       "    <tr style=\"text-align: right;\">\n",
       "      <th></th>\n",
       "      <th>index</th>\n",
       "      <th>encounter_id</th>\n",
       "      <th>patient_id</th>\n",
       "      <th>race</th>\n",
       "      <th>gender</th>\n",
       "      <th>age</th>\n",
       "      <th>weight</th>\n",
       "      <th>time_in_hospital</th>\n",
       "      <th>medical_specialty</th>\n",
       "      <th>num_lab_procedures</th>\n",
       "      <th>...</th>\n",
       "      <th>X19</th>\n",
       "      <th>X20</th>\n",
       "      <th>X21</th>\n",
       "      <th>X22</th>\n",
       "      <th>X23</th>\n",
       "      <th>X24</th>\n",
       "      <th>X25</th>\n",
       "      <th>change</th>\n",
       "      <th>diabetesMed</th>\n",
       "      <th>readmitted</th>\n",
       "    </tr>\n",
       "  </thead>\n",
       "  <tbody>\n",
       "    <tr>\n",
       "      <th>66582</th>\n",
       "      <td>39934</td>\n",
       "      <td>124202466</td>\n",
       "      <td>23450508</td>\n",
       "      <td>Caucasian</td>\n",
       "      <td>Female</td>\n",
       "      <td>[70-80)</td>\n",
       "      <td>NaN</td>\n",
       "      <td>11</td>\n",
       "      <td>InternalMedicine</td>\n",
       "      <td>40</td>\n",
       "      <td>...</td>\n",
       "      <td>No</td>\n",
       "      <td>Steady</td>\n",
       "      <td>No</td>\n",
       "      <td>No</td>\n",
       "      <td>No</td>\n",
       "      <td>No</td>\n",
       "      <td>No</td>\n",
       "      <td>No</td>\n",
       "      <td>Yes</td>\n",
       "      <td>0</td>\n",
       "    </tr>\n",
       "    <tr>\n",
       "      <th>66583</th>\n",
       "      <td>47366</td>\n",
       "      <td>145667070</td>\n",
       "      <td>29324601</td>\n",
       "      <td>Caucasian</td>\n",
       "      <td>Male</td>\n",
       "      <td>[80-90)</td>\n",
       "      <td>NaN</td>\n",
       "      <td>4</td>\n",
       "      <td>NaN</td>\n",
       "      <td>39</td>\n",
       "      <td>...</td>\n",
       "      <td>No</td>\n",
       "      <td>No</td>\n",
       "      <td>No</td>\n",
       "      <td>No</td>\n",
       "      <td>No</td>\n",
       "      <td>No</td>\n",
       "      <td>No</td>\n",
       "      <td>No</td>\n",
       "      <td>No</td>\n",
       "      <td>1</td>\n",
       "    </tr>\n",
       "    <tr>\n",
       "      <th>66584</th>\n",
       "      <td>76555</td>\n",
       "      <td>231061116</td>\n",
       "      <td>2179062</td>\n",
       "      <td>Caucasian</td>\n",
       "      <td>Female</td>\n",
       "      <td>[60-70)</td>\n",
       "      <td>NaN</td>\n",
       "      <td>2</td>\n",
       "      <td>NaN</td>\n",
       "      <td>24</td>\n",
       "      <td>...</td>\n",
       "      <td>No</td>\n",
       "      <td>No</td>\n",
       "      <td>No</td>\n",
       "      <td>No</td>\n",
       "      <td>No</td>\n",
       "      <td>No</td>\n",
       "      <td>No</td>\n",
       "      <td>No</td>\n",
       "      <td>Yes</td>\n",
       "      <td>1</td>\n",
       "    </tr>\n",
       "    <tr>\n",
       "      <th>66585</th>\n",
       "      <td>25392</td>\n",
       "      <td>84911682</td>\n",
       "      <td>20531754</td>\n",
       "      <td>NaN</td>\n",
       "      <td>Female</td>\n",
       "      <td>[80-90)</td>\n",
       "      <td>NaN</td>\n",
       "      <td>4</td>\n",
       "      <td>InternalMedicine</td>\n",
       "      <td>39</td>\n",
       "      <td>...</td>\n",
       "      <td>No</td>\n",
       "      <td>No</td>\n",
       "      <td>No</td>\n",
       "      <td>No</td>\n",
       "      <td>No</td>\n",
       "      <td>No</td>\n",
       "      <td>No</td>\n",
       "      <td>No</td>\n",
       "      <td>No</td>\n",
       "      <td>0</td>\n",
       "    </tr>\n",
       "    <tr>\n",
       "      <th>66586</th>\n",
       "      <td>51312</td>\n",
       "      <td>153167502</td>\n",
       "      <td>81985473</td>\n",
       "      <td>Caucasian</td>\n",
       "      <td>Female</td>\n",
       "      <td>[80-90)</td>\n",
       "      <td>NaN</td>\n",
       "      <td>2</td>\n",
       "      <td>NaN</td>\n",
       "      <td>38</td>\n",
       "      <td>...</td>\n",
       "      <td>No</td>\n",
       "      <td>Steady</td>\n",
       "      <td>No</td>\n",
       "      <td>No</td>\n",
       "      <td>No</td>\n",
       "      <td>No</td>\n",
       "      <td>No</td>\n",
       "      <td>Ch</td>\n",
       "      <td>Yes</td>\n",
       "      <td>1</td>\n",
       "    </tr>\n",
       "  </tbody>\n",
       "</table>\n",
       "<p>5 rows × 49 columns</p>\n",
       "</div>"
      ],
      "text/plain": [
       "       index  encounter_id  patient_id       race  gender      age weight  \\\n",
       "66582  39934     124202466    23450508  Caucasian  Female  [70-80)    NaN   \n",
       "66583  47366     145667070    29324601  Caucasian    Male  [80-90)    NaN   \n",
       "66584  76555     231061116     2179062  Caucasian  Female  [60-70)    NaN   \n",
       "66585  25392      84911682    20531754        NaN  Female  [80-90)    NaN   \n",
       "66586  51312     153167502    81985473  Caucasian  Female  [80-90)    NaN   \n",
       "\n",
       "       time_in_hospital medical_specialty  num_lab_procedures  ...  X19  \\\n",
       "66582                11  InternalMedicine                  40  ...   No   \n",
       "66583                 4               NaN                  39  ...   No   \n",
       "66584                 2               NaN                  24  ...   No   \n",
       "66585                 4  InternalMedicine                  39  ...   No   \n",
       "66586                 2               NaN                  38  ...   No   \n",
       "\n",
       "          X20  X21  X22  X23 X24 X25 change diabetesMed  readmitted  \n",
       "66582  Steady   No   No   No  No  No     No         Yes           0  \n",
       "66583      No   No   No   No  No  No     No          No           1  \n",
       "66584      No   No   No   No  No  No     No         Yes           1  \n",
       "66585      No   No   No   No  No  No     No          No           0  \n",
       "66586  Steady   No   No   No  No  No     Ch         Yes           1  \n",
       "\n",
       "[5 rows x 49 columns]"
      ]
     },
     "execution_count": 7,
     "metadata": {},
     "output_type": "execute_result"
    }
   ],
   "source": [
    "data.tail()"
   ]
  },
  {
   "cell_type": "code",
   "execution_count": 8,
   "id": "a44ee3c0",
   "metadata": {},
   "outputs": [
    {
     "data": {
      "text/plain": [
       "Index(['index', 'encounter_id', 'patient_id', 'race', 'gender', 'age',\n",
       "       'weight', 'time_in_hospital', 'medical_specialty', 'num_lab_procedures',\n",
       "       'num_procedures', 'num_medications', 'number_outpatient',\n",
       "       'number_emergency', 'number_inpatient', 'diag_1', 'diag_2', 'diag_3',\n",
       "       'diag_4', 'diag_5', 'number_diagnoses', 'X1', 'X2', 'X3', 'X4', 'X5',\n",
       "       'X6', 'X7', 'X8', 'X9', 'X10', 'X11', 'X12', 'X13', 'X14', 'X15', 'X16',\n",
       "       'X17', 'X18', 'X19', 'X20', 'X21', 'X22', 'X23', 'X24', 'X25', 'change',\n",
       "       'diabetesMed', 'readmitted'],\n",
       "      dtype='object')"
      ]
     },
     "execution_count": 8,
     "metadata": {},
     "output_type": "execute_result"
    }
   ],
   "source": [
    "#  columns in dataframe\n",
    "data.columns"
   ]
  },
  {
   "cell_type": "code",
   "execution_count": 9,
   "id": "14023320",
   "metadata": {},
   "outputs": [
    {
     "data": {
      "text/plain": [
       "Index(['index', 'encounter_id', 'patient_id', 'race', 'gender', 'age',\n",
       "       'weight', 'time_in_hospital', 'medical_specialty', 'num_lab_procedures',\n",
       "       'num_procedures', 'num_medications', 'number_outpatient',\n",
       "       'number_emergency', 'number_inpatient', 'diag_1', 'diag_2', 'diag_3',\n",
       "       'diag_4', 'diag_5', 'number_diagnoses', 'X1', 'X2', 'X3', 'X4', 'X5',\n",
       "       'X6', 'X7', 'X8', 'X9', 'X10', 'X11', 'X12', 'X13', 'X14', 'X15', 'X16',\n",
       "       'X17', 'X18', 'X19', 'X20', 'X21', 'X22', 'X23', 'X24', 'X25', 'change',\n",
       "       'diabetesMed'],\n",
       "      dtype='object')"
      ]
     },
     "execution_count": 9,
     "metadata": {},
     "output_type": "execute_result"
    }
   ],
   "source": [
    "test_data.columns"
   ]
  },
  {
   "cell_type": "code",
   "execution_count": 10,
   "id": "5d606c29",
   "metadata": {},
   "outputs": [
    {
     "name": "stdout",
     "output_type": "stream",
     "text": [
      "<class 'pandas.core.frame.DataFrame'>\n",
      "RangeIndex: 66587 entries, 0 to 66586\n",
      "Data columns (total 49 columns):\n",
      " #   Column              Non-Null Count  Dtype  \n",
      "---  ------              --------------  -----  \n",
      " 0   index               66587 non-null  int64  \n",
      " 1   encounter_id        66587 non-null  int64  \n",
      " 2   patient_id          66587 non-null  int64  \n",
      " 3   race                65083 non-null  object \n",
      " 4   gender              66587 non-null  object \n",
      " 5   age                 66587 non-null  object \n",
      " 6   weight              2133 non-null   object \n",
      " 7   time_in_hospital    66587 non-null  int64  \n",
      " 8   medical_specialty   33915 non-null  object \n",
      " 9   num_lab_procedures  66587 non-null  int64  \n",
      " 10  num_procedures      66587 non-null  int64  \n",
      " 11  num_medications     66587 non-null  int64  \n",
      " 12  number_outpatient   66587 non-null  int64  \n",
      " 13  number_emergency    66587 non-null  int64  \n",
      " 14  number_inpatient    66587 non-null  int64  \n",
      " 15  diag_1              66572 non-null  object \n",
      " 16  diag_2              66356 non-null  object \n",
      " 17  diag_3              65633 non-null  object \n",
      " 18  diag_4              65633 non-null  object \n",
      " 19  diag_5              66587 non-null  float64\n",
      " 20  number_diagnoses    66587 non-null  int64  \n",
      " 21  X1                  66587 non-null  object \n",
      " 22  X2                  66587 non-null  object \n",
      " 23  X3                  66587 non-null  object \n",
      " 24  X4                  66587 non-null  object \n",
      " 25  X5                  66587 non-null  object \n",
      " 26  X6                  66587 non-null  object \n",
      " 27  X7                  66587 non-null  object \n",
      " 28  X8                  66587 non-null  object \n",
      " 29  X9                  66587 non-null  object \n",
      " 30  X10                 66587 non-null  object \n",
      " 31  X11                 66587 non-null  object \n",
      " 32  X12                 66587 non-null  object \n",
      " 33  X13                 66587 non-null  object \n",
      " 34  X14                 66587 non-null  object \n",
      " 35  X15                 66587 non-null  object \n",
      " 36  X16                 66587 non-null  object \n",
      " 37  X17                 66587 non-null  object \n",
      " 38  X18                 66587 non-null  object \n",
      " 39  X19                 66587 non-null  object \n",
      " 40  X20                 66587 non-null  object \n",
      " 41  X21                 66587 non-null  object \n",
      " 42  X22                 66587 non-null  object \n",
      " 43  X23                 66587 non-null  object \n",
      " 44  X24                 66587 non-null  object \n",
      " 45  X25                 66587 non-null  object \n",
      " 46  change              66587 non-null  object \n",
      " 47  diabetesMed         66587 non-null  object \n",
      " 48  readmitted          66587 non-null  int64  \n",
      "dtypes: float64(1), int64(12), object(36)\n",
      "memory usage: 24.9+ MB\n"
     ]
    }
   ],
   "source": [
    "# object indicates it can be a categorical varialbe / Text or it can be something\n",
    "data.info()"
   ]
  },
  {
   "cell_type": "code",
   "execution_count": 11,
   "id": "741dafb1",
   "metadata": {},
   "outputs": [
    {
     "data": {
      "text/html": [
       "<div>\n",
       "<style scoped>\n",
       "    .dataframe tbody tr th:only-of-type {\n",
       "        vertical-align: middle;\n",
       "    }\n",
       "\n",
       "    .dataframe tbody tr th {\n",
       "        vertical-align: top;\n",
       "    }\n",
       "\n",
       "    .dataframe thead th {\n",
       "        text-align: right;\n",
       "    }\n",
       "</style>\n",
       "<table border=\"1\" class=\"dataframe\">\n",
       "  <thead>\n",
       "    <tr style=\"text-align: right;\">\n",
       "      <th></th>\n",
       "      <th>index</th>\n",
       "      <th>encounter_id</th>\n",
       "      <th>patient_id</th>\n",
       "      <th>race</th>\n",
       "      <th>gender</th>\n",
       "      <th>age</th>\n",
       "      <th>weight</th>\n",
       "      <th>time_in_hospital</th>\n",
       "      <th>medical_specialty</th>\n",
       "      <th>num_lab_procedures</th>\n",
       "      <th>...</th>\n",
       "      <th>X19</th>\n",
       "      <th>X20</th>\n",
       "      <th>X21</th>\n",
       "      <th>X22</th>\n",
       "      <th>X23</th>\n",
       "      <th>X24</th>\n",
       "      <th>X25</th>\n",
       "      <th>change</th>\n",
       "      <th>diabetesMed</th>\n",
       "      <th>readmitted</th>\n",
       "    </tr>\n",
       "  </thead>\n",
       "  <tbody>\n",
       "    <tr>\n",
       "      <th>count</th>\n",
       "      <td>66587.000000</td>\n",
       "      <td>6.658700e+04</td>\n",
       "      <td>6.658700e+04</td>\n",
       "      <td>65083</td>\n",
       "      <td>66587</td>\n",
       "      <td>66587</td>\n",
       "      <td>2133</td>\n",
       "      <td>66587.000000</td>\n",
       "      <td>33915</td>\n",
       "      <td>66587.000000</td>\n",
       "      <td>...</td>\n",
       "      <td>66587</td>\n",
       "      <td>66587</td>\n",
       "      <td>66587</td>\n",
       "      <td>66587</td>\n",
       "      <td>66587</td>\n",
       "      <td>66587</td>\n",
       "      <td>66587</td>\n",
       "      <td>66587</td>\n",
       "      <td>66587</td>\n",
       "      <td>66587.000000</td>\n",
       "    </tr>\n",
       "    <tr>\n",
       "      <th>unique</th>\n",
       "      <td>NaN</td>\n",
       "      <td>NaN</td>\n",
       "      <td>NaN</td>\n",
       "      <td>5</td>\n",
       "      <td>3</td>\n",
       "      <td>10</td>\n",
       "      <td>9</td>\n",
       "      <td>NaN</td>\n",
       "      <td>64</td>\n",
       "      <td>NaN</td>\n",
       "      <td>...</td>\n",
       "      <td>1</td>\n",
       "      <td>4</td>\n",
       "      <td>4</td>\n",
       "      <td>2</td>\n",
       "      <td>2</td>\n",
       "      <td>2</td>\n",
       "      <td>1</td>\n",
       "      <td>2</td>\n",
       "      <td>2</td>\n",
       "      <td>NaN</td>\n",
       "    </tr>\n",
       "    <tr>\n",
       "      <th>top</th>\n",
       "      <td>NaN</td>\n",
       "      <td>NaN</td>\n",
       "      <td>NaN</td>\n",
       "      <td>Caucasian</td>\n",
       "      <td>Female</td>\n",
       "      <td>[70-80)</td>\n",
       "      <td>[75-100)</td>\n",
       "      <td>NaN</td>\n",
       "      <td>InternalMedicine</td>\n",
       "      <td>NaN</td>\n",
       "      <td>...</td>\n",
       "      <td>No</td>\n",
       "      <td>No</td>\n",
       "      <td>No</td>\n",
       "      <td>No</td>\n",
       "      <td>No</td>\n",
       "      <td>No</td>\n",
       "      <td>No</td>\n",
       "      <td>No</td>\n",
       "      <td>Yes</td>\n",
       "      <td>NaN</td>\n",
       "    </tr>\n",
       "    <tr>\n",
       "      <th>freq</th>\n",
       "      <td>NaN</td>\n",
       "      <td>NaN</td>\n",
       "      <td>NaN</td>\n",
       "      <td>49906</td>\n",
       "      <td>35973</td>\n",
       "      <td>17031</td>\n",
       "      <td>900</td>\n",
       "      <td>NaN</td>\n",
       "      <td>9460</td>\n",
       "      <td>NaN</td>\n",
       "      <td>...</td>\n",
       "      <td>66587</td>\n",
       "      <td>31175</td>\n",
       "      <td>66110</td>\n",
       "      <td>66575</td>\n",
       "      <td>66586</td>\n",
       "      <td>66582</td>\n",
       "      <td>66587</td>\n",
       "      <td>35894</td>\n",
       "      <td>51205</td>\n",
       "      <td>NaN</td>\n",
       "    </tr>\n",
       "    <tr>\n",
       "      <th>mean</th>\n",
       "      <td>50903.474282</td>\n",
       "      <td>1.653153e+08</td>\n",
       "      <td>5.422970e+07</td>\n",
       "      <td>NaN</td>\n",
       "      <td>NaN</td>\n",
       "      <td>NaN</td>\n",
       "      <td>NaN</td>\n",
       "      <td>4.397510</td>\n",
       "      <td>NaN</td>\n",
       "      <td>43.115533</td>\n",
       "      <td>...</td>\n",
       "      <td>NaN</td>\n",
       "      <td>NaN</td>\n",
       "      <td>NaN</td>\n",
       "      <td>NaN</td>\n",
       "      <td>NaN</td>\n",
       "      <td>NaN</td>\n",
       "      <td>NaN</td>\n",
       "      <td>NaN</td>\n",
       "      <td>NaN</td>\n",
       "      <td>0.462012</td>\n",
       "    </tr>\n",
       "    <tr>\n",
       "      <th>std</th>\n",
       "      <td>29480.255515</td>\n",
       "      <td>1.030035e+08</td>\n",
       "      <td>3.878819e+07</td>\n",
       "      <td>NaN</td>\n",
       "      <td>NaN</td>\n",
       "      <td>NaN</td>\n",
       "      <td>NaN</td>\n",
       "      <td>2.980995</td>\n",
       "      <td>NaN</td>\n",
       "      <td>19.630417</td>\n",
       "      <td>...</td>\n",
       "      <td>NaN</td>\n",
       "      <td>NaN</td>\n",
       "      <td>NaN</td>\n",
       "      <td>NaN</td>\n",
       "      <td>NaN</td>\n",
       "      <td>NaN</td>\n",
       "      <td>NaN</td>\n",
       "      <td>NaN</td>\n",
       "      <td>NaN</td>\n",
       "      <td>0.498559</td>\n",
       "    </tr>\n",
       "    <tr>\n",
       "      <th>min</th>\n",
       "      <td>0.000000</td>\n",
       "      <td>1.573800e+04</td>\n",
       "      <td>1.350000e+02</td>\n",
       "      <td>NaN</td>\n",
       "      <td>NaN</td>\n",
       "      <td>NaN</td>\n",
       "      <td>NaN</td>\n",
       "      <td>1.000000</td>\n",
       "      <td>NaN</td>\n",
       "      <td>1.000000</td>\n",
       "      <td>...</td>\n",
       "      <td>NaN</td>\n",
       "      <td>NaN</td>\n",
       "      <td>NaN</td>\n",
       "      <td>NaN</td>\n",
       "      <td>NaN</td>\n",
       "      <td>NaN</td>\n",
       "      <td>NaN</td>\n",
       "      <td>NaN</td>\n",
       "      <td>NaN</td>\n",
       "      <td>0.000000</td>\n",
       "    </tr>\n",
       "    <tr>\n",
       "      <th>25%</th>\n",
       "      <td>25166.500000</td>\n",
       "      <td>8.440328e+07</td>\n",
       "      <td>2.338646e+07</td>\n",
       "      <td>NaN</td>\n",
       "      <td>NaN</td>\n",
       "      <td>NaN</td>\n",
       "      <td>NaN</td>\n",
       "      <td>2.000000</td>\n",
       "      <td>NaN</td>\n",
       "      <td>31.000000</td>\n",
       "      <td>...</td>\n",
       "      <td>NaN</td>\n",
       "      <td>NaN</td>\n",
       "      <td>NaN</td>\n",
       "      <td>NaN</td>\n",
       "      <td>NaN</td>\n",
       "      <td>NaN</td>\n",
       "      <td>NaN</td>\n",
       "      <td>NaN</td>\n",
       "      <td>NaN</td>\n",
       "      <td>0.000000</td>\n",
       "    </tr>\n",
       "    <tr>\n",
       "      <th>50%</th>\n",
       "      <td>51129.000000</td>\n",
       "      <td>1.528504e+08</td>\n",
       "      <td>4.526103e+07</td>\n",
       "      <td>NaN</td>\n",
       "      <td>NaN</td>\n",
       "      <td>NaN</td>\n",
       "      <td>NaN</td>\n",
       "      <td>4.000000</td>\n",
       "      <td>NaN</td>\n",
       "      <td>44.000000</td>\n",
       "      <td>...</td>\n",
       "      <td>NaN</td>\n",
       "      <td>NaN</td>\n",
       "      <td>NaN</td>\n",
       "      <td>NaN</td>\n",
       "      <td>NaN</td>\n",
       "      <td>NaN</td>\n",
       "      <td>NaN</td>\n",
       "      <td>NaN</td>\n",
       "      <td>NaN</td>\n",
       "      <td>0.000000</td>\n",
       "    </tr>\n",
       "    <tr>\n",
       "      <th>75%</th>\n",
       "      <td>76380.000000</td>\n",
       "      <td>2.305049e+08</td>\n",
       "      <td>8.727185e+07</td>\n",
       "      <td>NaN</td>\n",
       "      <td>NaN</td>\n",
       "      <td>NaN</td>\n",
       "      <td>NaN</td>\n",
       "      <td>6.000000</td>\n",
       "      <td>NaN</td>\n",
       "      <td>57.000000</td>\n",
       "      <td>...</td>\n",
       "      <td>NaN</td>\n",
       "      <td>NaN</td>\n",
       "      <td>NaN</td>\n",
       "      <td>NaN</td>\n",
       "      <td>NaN</td>\n",
       "      <td>NaN</td>\n",
       "      <td>NaN</td>\n",
       "      <td>NaN</td>\n",
       "      <td>NaN</td>\n",
       "      <td>1.000000</td>\n",
       "    </tr>\n",
       "    <tr>\n",
       "      <th>max</th>\n",
       "      <td>101765.000000</td>\n",
       "      <td>4.438672e+08</td>\n",
       "      <td>1.893494e+08</td>\n",
       "      <td>NaN</td>\n",
       "      <td>NaN</td>\n",
       "      <td>NaN</td>\n",
       "      <td>NaN</td>\n",
       "      <td>14.000000</td>\n",
       "      <td>NaN</td>\n",
       "      <td>129.000000</td>\n",
       "      <td>...</td>\n",
       "      <td>NaN</td>\n",
       "      <td>NaN</td>\n",
       "      <td>NaN</td>\n",
       "      <td>NaN</td>\n",
       "      <td>NaN</td>\n",
       "      <td>NaN</td>\n",
       "      <td>NaN</td>\n",
       "      <td>NaN</td>\n",
       "      <td>NaN</td>\n",
       "      <td>1.000000</td>\n",
       "    </tr>\n",
       "  </tbody>\n",
       "</table>\n",
       "<p>11 rows × 49 columns</p>\n",
       "</div>"
      ],
      "text/plain": [
       "                index  encounter_id    patient_id       race  gender      age  \\\n",
       "count    66587.000000  6.658700e+04  6.658700e+04      65083   66587    66587   \n",
       "unique            NaN           NaN           NaN          5       3       10   \n",
       "top               NaN           NaN           NaN  Caucasian  Female  [70-80)   \n",
       "freq              NaN           NaN           NaN      49906   35973    17031   \n",
       "mean     50903.474282  1.653153e+08  5.422970e+07        NaN     NaN      NaN   \n",
       "std      29480.255515  1.030035e+08  3.878819e+07        NaN     NaN      NaN   \n",
       "min          0.000000  1.573800e+04  1.350000e+02        NaN     NaN      NaN   \n",
       "25%      25166.500000  8.440328e+07  2.338646e+07        NaN     NaN      NaN   \n",
       "50%      51129.000000  1.528504e+08  4.526103e+07        NaN     NaN      NaN   \n",
       "75%      76380.000000  2.305049e+08  8.727185e+07        NaN     NaN      NaN   \n",
       "max     101765.000000  4.438672e+08  1.893494e+08        NaN     NaN      NaN   \n",
       "\n",
       "          weight  time_in_hospital medical_specialty  num_lab_procedures  ...  \\\n",
       "count       2133      66587.000000             33915        66587.000000  ...   \n",
       "unique         9               NaN                64                 NaN  ...   \n",
       "top     [75-100)               NaN  InternalMedicine                 NaN  ...   \n",
       "freq         900               NaN              9460                 NaN  ...   \n",
       "mean         NaN          4.397510               NaN           43.115533  ...   \n",
       "std          NaN          2.980995               NaN           19.630417  ...   \n",
       "min          NaN          1.000000               NaN            1.000000  ...   \n",
       "25%          NaN          2.000000               NaN           31.000000  ...   \n",
       "50%          NaN          4.000000               NaN           44.000000  ...   \n",
       "75%          NaN          6.000000               NaN           57.000000  ...   \n",
       "max          NaN         14.000000               NaN          129.000000  ...   \n",
       "\n",
       "          X19    X20    X21    X22    X23    X24    X25 change diabetesMed  \\\n",
       "count   66587  66587  66587  66587  66587  66587  66587  66587       66587   \n",
       "unique      1      4      4      2      2      2      1      2           2   \n",
       "top        No     No     No     No     No     No     No     No         Yes   \n",
       "freq    66587  31175  66110  66575  66586  66582  66587  35894       51205   \n",
       "mean      NaN    NaN    NaN    NaN    NaN    NaN    NaN    NaN         NaN   \n",
       "std       NaN    NaN    NaN    NaN    NaN    NaN    NaN    NaN         NaN   \n",
       "min       NaN    NaN    NaN    NaN    NaN    NaN    NaN    NaN         NaN   \n",
       "25%       NaN    NaN    NaN    NaN    NaN    NaN    NaN    NaN         NaN   \n",
       "50%       NaN    NaN    NaN    NaN    NaN    NaN    NaN    NaN         NaN   \n",
       "75%       NaN    NaN    NaN    NaN    NaN    NaN    NaN    NaN         NaN   \n",
       "max       NaN    NaN    NaN    NaN    NaN    NaN    NaN    NaN         NaN   \n",
       "\n",
       "          readmitted  \n",
       "count   66587.000000  \n",
       "unique           NaN  \n",
       "top              NaN  \n",
       "freq             NaN  \n",
       "mean        0.462012  \n",
       "std         0.498559  \n",
       "min         0.000000  \n",
       "25%         0.000000  \n",
       "50%         0.000000  \n",
       "75%         1.000000  \n",
       "max         1.000000  \n",
       "\n",
       "[11 rows x 49 columns]"
      ]
     },
     "execution_count": 11,
     "metadata": {},
     "output_type": "execute_result"
    }
   ],
   "source": [
    "data.describe(include='all')"
   ]
  },
  {
   "cell_type": "code",
   "execution_count": 12,
   "id": "afc27651",
   "metadata": {},
   "outputs": [
    {
     "data": {
      "text/plain": [
       "index                     0\n",
       "encounter_id              0\n",
       "patient_id                0\n",
       "race                   1504\n",
       "gender                    0\n",
       "age                       0\n",
       "weight                64454\n",
       "time_in_hospital          0\n",
       "medical_specialty     32672\n",
       "num_lab_procedures        0\n",
       "num_procedures            0\n",
       "num_medications           0\n",
       "number_outpatient         0\n",
       "number_emergency          0\n",
       "number_inpatient          0\n",
       "diag_1                   15\n",
       "diag_2                  231\n",
       "diag_3                  954\n",
       "diag_4                  954\n",
       "diag_5                    0\n",
       "number_diagnoses          0\n",
       "X1                        0\n",
       "X2                        0\n",
       "X3                        0\n",
       "X4                        0\n",
       "X5                        0\n",
       "X6                        0\n",
       "X7                        0\n",
       "X8                        0\n",
       "X9                        0\n",
       "X10                       0\n",
       "X11                       0\n",
       "X12                       0\n",
       "X13                       0\n",
       "X14                       0\n",
       "X15                       0\n",
       "X16                       0\n",
       "X17                       0\n",
       "X18                       0\n",
       "X19                       0\n",
       "X20                       0\n",
       "X21                       0\n",
       "X22                       0\n",
       "X23                       0\n",
       "X24                       0\n",
       "X25                       0\n",
       "change                    0\n",
       "diabetesMed               0\n",
       "readmitted                0\n",
       "dtype: int64"
      ]
     },
     "execution_count": 12,
     "metadata": {},
     "output_type": "execute_result"
    }
   ],
   "source": [
    "data.isnull().sum()"
   ]
  },
  {
   "cell_type": "code",
   "execution_count": 13,
   "id": "aa264fbb",
   "metadata": {},
   "outputs": [],
   "source": [
    "# Dropping Columns : X8,X18,X19,X25 (It has single values in the Data frame\n",
    "data.drop(['index','weight','medical_specialty','X8','X18','X19','X25','diag_1','diag_2','diag_3','diag_4','diag_5'],axis=1,inplace=True)\n",
    "test_data.drop(['index','weight','medical_specialty','X8','X18','X19','X25','diag_1','diag_2','diag_3','diag_4','diag_5'],axis=1,inplace=True)"
   ]
  },
  {
   "cell_type": "code",
   "execution_count": 14,
   "id": "eccb4db4",
   "metadata": {},
   "outputs": [
    {
     "data": {
      "text/plain": [
       "((66587, 37), (16647, 36))"
      ]
     },
     "execution_count": 14,
     "metadata": {},
     "output_type": "execute_result"
    }
   ],
   "source": [
    "data.shape,test_data.shape"
   ]
  },
  {
   "cell_type": "code",
   "execution_count": 15,
   "id": "18d51e27",
   "metadata": {},
   "outputs": [],
   "source": [
    "#target variable as int so convert it to category\n",
    "data['readmitted'] = data.readmitted.astype('category')"
   ]
  },
  {
   "cell_type": "code",
   "execution_count": 16,
   "id": "054c7d99",
   "metadata": {},
   "outputs": [
    {
     "data": {
      "text/plain": [
       "0    35823\n",
       "1    30764\n",
       "Name: readmitted, dtype: int64"
      ]
     },
     "execution_count": 16,
     "metadata": {},
     "output_type": "execute_result"
    }
   ],
   "source": [
    "#There is no imbalance in the class Distribution\n",
    "data.readmitted.value_counts()"
   ]
  },
  {
   "cell_type": "code",
   "execution_count": 17,
   "id": "e58245bc",
   "metadata": {},
   "outputs": [
    {
     "data": {
      "text/plain": [
       "(66587, 37)"
      ]
     },
     "execution_count": 17,
     "metadata": {},
     "output_type": "execute_result"
    }
   ],
   "source": [
    "data.shape"
   ]
  },
  {
   "cell_type": "code",
   "execution_count": 18,
   "id": "a9328da0",
   "metadata": {},
   "outputs": [],
   "source": [
    "en_column = ['race','gender','age','X1','X2','X3','X4','X5','X6','X7','X9','X10','X11','X12','X13','X14','X15','X16','X17',\n",
    "             'X20','X21','X22','X23','X24','change','diabetesMed']\n",
    "for i in en_column:\n",
    "    data[i] = LabelEncoder().fit_transform(data[i])\n",
    "    test_data[i] = LabelEncoder().fit_transform(test_data[i])"
   ]
  },
  {
   "cell_type": "code",
   "execution_count": 19,
   "id": "1643d8ec",
   "metadata": {},
   "outputs": [
    {
     "data": {
      "text/plain": [
       "((66587, 37), (16647, 36))"
      ]
     },
     "execution_count": 19,
     "metadata": {},
     "output_type": "execute_result"
    }
   ],
   "source": [
    "data.shape,test_data.shape"
   ]
  },
  {
   "cell_type": "code",
   "execution_count": 20,
   "id": "561f555b",
   "metadata": {},
   "outputs": [],
   "source": [
    "# Numerical Columns has string in it (Dont no Wether to remove or not)"
   ]
  },
  {
   "cell_type": "code",
   "execution_count": 21,
   "id": "a2bdd9fc",
   "metadata": {},
   "outputs": [],
   "source": [
    "#set(data['diag_4'])"
   ]
  },
  {
   "cell_type": "code",
   "execution_count": 22,
   "id": "fe759240",
   "metadata": {},
   "outputs": [],
   "source": [
    "# a = ['V07','V43','V45','V53','V54','V55','V56','V57','V58','E909','V63','V66','V70','V71']\n",
    "# b = ['E812', 'E814', 'E816', 'E817', 'E821', 'E829', 'E849', 'E850', 'E853', 'E858', 'E870', 'E878', 'E879', 'E880', 'E881', 'E882',\n",
    "#  'E884', 'E885', 'E887', 'E888', 'E890', 'E900', 'E905', 'E915', 'E917', 'E918', 'E924', 'E927', 'E928', 'E929', 'E930', 'E931',\n",
    "#  'E932', 'E933', 'E934', 'E935', 'E936', 'E937', 'E939', 'E941', 'E942', 'E944', 'E945', 'E947', 'E950', 'E965', 'E980', 'V02',\n",
    "#  'V08', 'V09', 'V10', 'V11', 'V12', 'V15', 'V16', 'V17', 'V18', 'V23', 'V25', 'V42', 'V43', 'V44', 'V45', 'V46', 'V49', 'V50',\n",
    "#  'V53', 'V54', 'V55', 'V57', 'V58', 'V61', 'V62', 'V63', 'V64', 'V65', 'V66', 'V69', 'V70', 'V72', 'V85', 'V86']\n",
    "# c = ['E812', 'E813', 'E815', 'E816', 'E818', 'E819', 'E825', 'E828', 'E849', 'E850', 'E852', 'E855', 'E858', 'E861', 'E864',\n",
    "#  'E865', 'E870', 'E878', 'E879', 'E880', 'E881', 'E882', 'E883', 'E884', 'E885', 'E886', 'E887', 'E888', 'E892', 'E894', 'E901',\n",
    "#  'E904', 'E905', 'E906', 'E912', 'E915', 'E916', 'E917', 'E920', 'E927', 'E928', 'E929', 'E930', 'E931', 'E932', 'E933', 'E934',\n",
    "#  'E935', 'E936', 'E937', 'E938', 'E939', 'E941', 'E942', 'E943', 'E944', 'E946', 'E947', 'E949', 'E950', 'E956', 'V02', 'V03',\n",
    "#  'V06', 'V07', 'V08', 'V09', 'V10', 'V11', 'V12', 'V13', 'V14', 'V15', 'V16', 'V17', 'V18', 'V22', 'V23', 'V25', 'V27', 'V42',\n",
    "#  'V43', 'V44', 'V45', 'V46', 'V49', 'V53', 'V54', 'V55', 'V57', 'V58', 'V60', 'V61', 'V62', 'V63', 'V64', 'V65', 'V66', 'V72',\n",
    "#  'V85']\n",
    "# # Similarly for diag 4 and 5\n",
    "# data = data[~data['diag_1'].isin(a)]"
   ]
  },
  {
   "cell_type": "code",
   "execution_count": 23,
   "id": "c5685253",
   "metadata": {},
   "outputs": [],
   "source": [
    "X = data.drop(['readmitted'],axis=1)\n",
    "y = data['readmitted']"
   ]
  },
  {
   "cell_type": "code",
   "execution_count": 24,
   "id": "e73fbf8c",
   "metadata": {},
   "outputs": [
    {
     "data": {
      "text/plain": [
       "(66587, 36)"
      ]
     },
     "execution_count": 24,
     "metadata": {},
     "output_type": "execute_result"
    }
   ],
   "source": [
    "X.shape"
   ]
  },
  {
   "cell_type": "code",
   "execution_count": 25,
   "id": "2fdf1641",
   "metadata": {},
   "outputs": [
    {
     "data": {
      "text/plain": [
       "(66587,)"
      ]
     },
     "execution_count": 25,
     "metadata": {},
     "output_type": "execute_result"
    }
   ],
   "source": [
    "y.shape"
   ]
  },
  {
   "cell_type": "code",
   "execution_count": 26,
   "id": "c4334e5d",
   "metadata": {},
   "outputs": [
    {
     "data": {
      "text/plain": [
       "0        1\n",
       "1        0\n",
       "2        1\n",
       "3        1\n",
       "4        1\n",
       "        ..\n",
       "66582    0\n",
       "66583    1\n",
       "66584    1\n",
       "66585    0\n",
       "66586    1\n",
       "Name: readmitted, Length: 66587, dtype: category\n",
       "Categories (2, int64): [0, 1]"
      ]
     },
     "execution_count": 26,
     "metadata": {},
     "output_type": "execute_result"
    }
   ],
   "source": [
    "y"
   ]
  },
  {
   "cell_type": "code",
   "execution_count": 27,
   "id": "4dd25611",
   "metadata": {},
   "outputs": [],
   "source": [
    "# train test split\n",
    "from sklearn.model_selection import train_test_split\n",
    "X_train,X_test,y_train,y_test = train_test_split(X,y,test_size=0.2,random_state=123)"
   ]
  },
  {
   "cell_type": "code",
   "execution_count": 28,
   "id": "9594512d",
   "metadata": {},
   "outputs": [],
   "source": [
    "# Without Making changes in the data running every classification model\n",
    "from sklearn.linear_model import LogisticRegression\n",
    "from sklearn.tree import DecisionTreeClassifier\n",
    "from sklearn.neighbors import KNeighborsClassifier\n",
    "from sklearn.ensemble import RandomForestClassifier,BaggingClassifier"
   ]
  },
  {
   "cell_type": "code",
   "execution_count": 29,
   "id": "84470f6b",
   "metadata": {},
   "outputs": [],
   "source": [
    "lr = LogisticRegression()"
   ]
  },
  {
   "cell_type": "code",
   "execution_count": 30,
   "id": "2819e686",
   "metadata": {},
   "outputs": [
    {
     "data": {
      "text/plain": [
       "LogisticRegression()"
      ]
     },
     "execution_count": 30,
     "metadata": {},
     "output_type": "execute_result"
    }
   ],
   "source": [
    "lr.fit(X_train,y_train)"
   ]
  },
  {
   "cell_type": "code",
   "execution_count": 31,
   "id": "bd36c501",
   "metadata": {},
   "outputs": [],
   "source": [
    "lr_pred = lr.predict(X_test)"
   ]
  },
  {
   "cell_type": "code",
   "execution_count": 32,
   "id": "8298183a",
   "metadata": {},
   "outputs": [
    {
     "data": {
      "text/plain": [
       "array([0, 0, 0, ..., 1, 1, 0], dtype=int64)"
      ]
     },
     "execution_count": 32,
     "metadata": {},
     "output_type": "execute_result"
    }
   ],
   "source": [
    "lr_pred"
   ]
  },
  {
   "cell_type": "code",
   "execution_count": 33,
   "id": "9f21d0d3",
   "metadata": {},
   "outputs": [
    {
     "data": {
      "text/html": [
       "<div>\n",
       "<style scoped>\n",
       "    .dataframe tbody tr th:only-of-type {\n",
       "        vertical-align: middle;\n",
       "    }\n",
       "\n",
       "    .dataframe tbody tr th {\n",
       "        vertical-align: top;\n",
       "    }\n",
       "\n",
       "    .dataframe thead th {\n",
       "        text-align: right;\n",
       "    }\n",
       "</style>\n",
       "<table border=\"1\" class=\"dataframe\">\n",
       "  <thead>\n",
       "    <tr style=\"text-align: right;\">\n",
       "      <th>Predict</th>\n",
       "      <th>0</th>\n",
       "      <th>1</th>\n",
       "      <th>All</th>\n",
       "    </tr>\n",
       "    <tr>\n",
       "      <th>Actual</th>\n",
       "      <th></th>\n",
       "      <th></th>\n",
       "      <th></th>\n",
       "    </tr>\n",
       "  </thead>\n",
       "  <tbody>\n",
       "    <tr>\n",
       "      <th>0</th>\n",
       "      <td>1046</td>\n",
       "      <td>373</td>\n",
       "      <td>1419</td>\n",
       "    </tr>\n",
       "    <tr>\n",
       "      <th>1</th>\n",
       "      <td>862</td>\n",
       "      <td>323</td>\n",
       "      <td>1185</td>\n",
       "    </tr>\n",
       "    <tr>\n",
       "      <th>All</th>\n",
       "      <td>1908</td>\n",
       "      <td>696</td>\n",
       "      <td>2604</td>\n",
       "    </tr>\n",
       "  </tbody>\n",
       "</table>\n",
       "</div>"
      ],
      "text/plain": [
       "Predict     0    1   All\n",
       "Actual                  \n",
       "0        1046  373  1419\n",
       "1         862  323  1185\n",
       "All      1908  696  2604"
      ]
     },
     "execution_count": 33,
     "metadata": {},
     "output_type": "execute_result"
    }
   ],
   "source": [
    "pd.crosstab(pd.Series(y_test,name='Actual'),pd.Series(lr_pred,name='Predict'),margins=True)"
   ]
  },
  {
   "cell_type": "code",
   "execution_count": 34,
   "id": "a15279df",
   "metadata": {},
   "outputs": [
    {
     "name": "stdout",
     "output_type": "stream",
     "text": [
      "Accuracy is 0.57\n",
      "Precision is 0.56\n",
      "Recall is 0.32\n",
      "F1 Score is 0.41\n"
     ]
    }
   ],
   "source": [
    "from sklearn.metrics import accuracy_score, precision_score, recall_score,f1_score\n",
    "print(\"Accuracy is {0:.2f}\".format(accuracy_score(y_test, lr_pred)))\n",
    "print(\"Precision is {0:.2f}\".format(precision_score(y_test, lr_pred)))\n",
    "print(\"Recall is {0:.2f}\".format(recall_score(y_test, lr_pred)))\n",
    "print(\"F1 Score is {0:.2f}\".format(f1_score(y_test,lr_pred)))"
   ]
  },
  {
   "cell_type": "code",
   "execution_count": 35,
   "id": "70605bd0",
   "metadata": {},
   "outputs": [],
   "source": [
    "prediction = lr.predict(test_data)"
   ]
  },
  {
   "cell_type": "code",
   "execution_count": 36,
   "id": "3112de2c",
   "metadata": {},
   "outputs": [
    {
     "data": {
      "text/plain": [
       "array([0, 0, 0, ..., 1, 0, 0], dtype=int64)"
      ]
     },
     "execution_count": 36,
     "metadata": {},
     "output_type": "execute_result"
    }
   ],
   "source": [
    "prediction"
   ]
  },
  {
   "cell_type": "code",
   "execution_count": 41,
   "id": "20a7c8e0",
   "metadata": {},
   "outputs": [],
   "source": [
    "submission_file = pd.read_csv('Sample_submission.csv')"
   ]
  },
  {
   "cell_type": "code",
   "execution_count": 42,
   "id": "543125f9",
   "metadata": {},
   "outputs": [
    {
     "data": {
      "text/html": [
       "<div>\n",
       "<style scoped>\n",
       "    .dataframe tbody tr th:only-of-type {\n",
       "        vertical-align: middle;\n",
       "    }\n",
       "\n",
       "    .dataframe tbody tr th {\n",
       "        vertical-align: top;\n",
       "    }\n",
       "\n",
       "    .dataframe thead th {\n",
       "        text-align: right;\n",
       "    }\n",
       "</style>\n",
       "<table border=\"1\" class=\"dataframe\">\n",
       "  <thead>\n",
       "    <tr style=\"text-align: right;\">\n",
       "      <th></th>\n",
       "      <th>encounter_id</th>\n",
       "      <th>prediction</th>\n",
       "    </tr>\n",
       "  </thead>\n",
       "  <tbody>\n",
       "    <tr>\n",
       "      <th>0</th>\n",
       "      <td>46325466</td>\n",
       "      <td>1</td>\n",
       "    </tr>\n",
       "    <tr>\n",
       "      <th>1</th>\n",
       "      <td>245219616</td>\n",
       "      <td>1</td>\n",
       "    </tr>\n",
       "    <tr>\n",
       "      <th>2</th>\n",
       "      <td>155321232</td>\n",
       "      <td>1</td>\n",
       "    </tr>\n",
       "    <tr>\n",
       "      <th>3</th>\n",
       "      <td>179491944</td>\n",
       "      <td>1</td>\n",
       "    </tr>\n",
       "    <tr>\n",
       "      <th>4</th>\n",
       "      <td>7425954</td>\n",
       "      <td>1</td>\n",
       "    </tr>\n",
       "    <tr>\n",
       "      <th>...</th>\n",
       "      <td>...</td>\n",
       "      <td>...</td>\n",
       "    </tr>\n",
       "    <tr>\n",
       "      <th>16642</th>\n",
       "      <td>198316824</td>\n",
       "      <td>1</td>\n",
       "    </tr>\n",
       "    <tr>\n",
       "      <th>16643</th>\n",
       "      <td>96993108</td>\n",
       "      <td>1</td>\n",
       "    </tr>\n",
       "    <tr>\n",
       "      <th>16644</th>\n",
       "      <td>137896878</td>\n",
       "      <td>1</td>\n",
       "    </tr>\n",
       "    <tr>\n",
       "      <th>16645</th>\n",
       "      <td>93395658</td>\n",
       "      <td>1</td>\n",
       "    </tr>\n",
       "    <tr>\n",
       "      <th>16646</th>\n",
       "      <td>121984746</td>\n",
       "      <td>1</td>\n",
       "    </tr>\n",
       "  </tbody>\n",
       "</table>\n",
       "<p>16647 rows × 2 columns</p>\n",
       "</div>"
      ],
      "text/plain": [
       "       encounter_id  prediction\n",
       "0          46325466           1\n",
       "1         245219616           1\n",
       "2         155321232           1\n",
       "3         179491944           1\n",
       "4           7425954           1\n",
       "...             ...         ...\n",
       "16642     198316824           1\n",
       "16643      96993108           1\n",
       "16644     137896878           1\n",
       "16645      93395658           1\n",
       "16646     121984746           1\n",
       "\n",
       "[16647 rows x 2 columns]"
      ]
     },
     "execution_count": 42,
     "metadata": {},
     "output_type": "execute_result"
    }
   ],
   "source": [
    "submission_file"
   ]
  },
  {
   "cell_type": "code",
   "execution_count": 43,
   "id": "aa6d5ca2",
   "metadata": {},
   "outputs": [],
   "source": [
    "submission_file['prediction'] = prediction"
   ]
  },
  {
   "cell_type": "code",
   "execution_count": 44,
   "id": "09e3085e",
   "metadata": {},
   "outputs": [
    {
     "data": {
      "text/html": [
       "<div>\n",
       "<style scoped>\n",
       "    .dataframe tbody tr th:only-of-type {\n",
       "        vertical-align: middle;\n",
       "    }\n",
       "\n",
       "    .dataframe tbody tr th {\n",
       "        vertical-align: top;\n",
       "    }\n",
       "\n",
       "    .dataframe thead th {\n",
       "        text-align: right;\n",
       "    }\n",
       "</style>\n",
       "<table border=\"1\" class=\"dataframe\">\n",
       "  <thead>\n",
       "    <tr style=\"text-align: right;\">\n",
       "      <th></th>\n",
       "      <th>encounter_id</th>\n",
       "      <th>prediction</th>\n",
       "    </tr>\n",
       "  </thead>\n",
       "  <tbody>\n",
       "    <tr>\n",
       "      <th>0</th>\n",
       "      <td>46325466</td>\n",
       "      <td>0</td>\n",
       "    </tr>\n",
       "    <tr>\n",
       "      <th>1</th>\n",
       "      <td>245219616</td>\n",
       "      <td>0</td>\n",
       "    </tr>\n",
       "    <tr>\n",
       "      <th>2</th>\n",
       "      <td>155321232</td>\n",
       "      <td>0</td>\n",
       "    </tr>\n",
       "    <tr>\n",
       "      <th>3</th>\n",
       "      <td>179491944</td>\n",
       "      <td>1</td>\n",
       "    </tr>\n",
       "    <tr>\n",
       "      <th>4</th>\n",
       "      <td>7425954</td>\n",
       "      <td>0</td>\n",
       "    </tr>\n",
       "    <tr>\n",
       "      <th>...</th>\n",
       "      <td>...</td>\n",
       "      <td>...</td>\n",
       "    </tr>\n",
       "    <tr>\n",
       "      <th>16642</th>\n",
       "      <td>198316824</td>\n",
       "      <td>0</td>\n",
       "    </tr>\n",
       "    <tr>\n",
       "      <th>16643</th>\n",
       "      <td>96993108</td>\n",
       "      <td>0</td>\n",
       "    </tr>\n",
       "    <tr>\n",
       "      <th>16644</th>\n",
       "      <td>137896878</td>\n",
       "      <td>1</td>\n",
       "    </tr>\n",
       "    <tr>\n",
       "      <th>16645</th>\n",
       "      <td>93395658</td>\n",
       "      <td>0</td>\n",
       "    </tr>\n",
       "    <tr>\n",
       "      <th>16646</th>\n",
       "      <td>121984746</td>\n",
       "      <td>0</td>\n",
       "    </tr>\n",
       "  </tbody>\n",
       "</table>\n",
       "<p>16647 rows × 2 columns</p>\n",
       "</div>"
      ],
      "text/plain": [
       "       encounter_id  prediction\n",
       "0          46325466           0\n",
       "1         245219616           0\n",
       "2         155321232           0\n",
       "3         179491944           1\n",
       "4           7425954           0\n",
       "...             ...         ...\n",
       "16642     198316824           0\n",
       "16643      96993108           0\n",
       "16644     137896878           1\n",
       "16645      93395658           0\n",
       "16646     121984746           0\n",
       "\n",
       "[16647 rows x 2 columns]"
      ]
     },
     "execution_count": 44,
     "metadata": {},
     "output_type": "execute_result"
    }
   ],
   "source": [
    "submission_file"
   ]
  },
  {
   "cell_type": "code",
   "execution_count": 45,
   "id": "2f145e97",
   "metadata": {},
   "outputs": [],
   "source": [
    "submission_file.to_csv(\"Logistic_Regression_Submission.csv\")"
   ]
  },
  {
   "cell_type": "code",
   "execution_count": 46,
   "id": "5174ab67",
   "metadata": {},
   "outputs": [
    {
     "name": "stdout",
     "output_type": "stream",
     "text": [
      "Accuracy is 0.75\n",
      "Precision is 0.72\n",
      "Recall is 0.73\n",
      "F1 Score is 0.73\n"
     ]
    }
   ],
   "source": [
    "dt = DecisionTreeClassifier()\n",
    "dt.fit(X_train,y_train)\n",
    "dt_pred = dt.predict(X_test)\n",
    "pd.crosstab(pd.Series(y_test,name='Actual'),pd.Series(dt_pred,name='Predict'),margins=True)\n",
    "print(\"Accuracy is {0:.2f}\".format(accuracy_score(y_test, dt_pred)))\n",
    "print(\"Precision is {0:.2f}\".format(precision_score(y_test, dt_pred)))\n",
    "print(\"Recall is {0:.2f}\".format(recall_score(y_test, dt_pred)))\n",
    "print(\"F1 Score is {0:.2f}\".format(f1_score(y_test,dt_pred)))"
   ]
  },
  {
   "cell_type": "code",
   "execution_count": 47,
   "id": "3cfe9545",
   "metadata": {},
   "outputs": [],
   "source": [
    "dt_prediction = dt.predict(test_data)\n",
    "submission_file['prediction'] = dt_prediction\n",
    "submission_file.to_csv(\"Decision_Tree_Submission.csv\")"
   ]
  },
  {
   "cell_type": "code",
   "execution_count": 43,
   "id": "64ad1b2c",
   "metadata": {},
   "outputs": [
    {
     "name": "stdout",
     "output_type": "stream",
     "text": [
      "Accuracy is 0.75\n",
      "Precision is 0.72\n",
      "Recall is 0.73\n",
      "F1 Score is 0.73\n"
     ]
    }
   ],
   "source": [
    "rf = RandomForestClassifier(n_estimators=100,max_depth=5)\n",
    "rf.fit(X_train,y_train)\n",
    "rf_pred = dt.predict(X_test)\n",
    "pd.crosstab(pd.Series(y_test,name='Actual'),pd.Series(rf_pred,name='Predict'),margins=True)\n",
    "print(\"Accuracy is {0:.2f}\".format(accuracy_score(y_test, rf_pred)))\n",
    "print(\"Precision is {0:.2f}\".format(precision_score(y_test, rf_pred)))\n",
    "print(\"Recall is {0:.2f}\".format(recall_score(y_test, rf_pred)))\n",
    "print(\"F1 Score is {0:.2f}\".format(f1_score(y_test,rf_pred)))"
   ]
  },
  {
   "cell_type": "code",
   "execution_count": 44,
   "id": "f9090d8f",
   "metadata": {},
   "outputs": [],
   "source": [
    "dt_prediction = dt.predict(test_data)\n",
    "submission_file['prediction'] = dt_prediction\n",
    "submission_file.to_csv(\"Random_Forest_Submission.csv\")"
   ]
  },
  {
   "cell_type": "code",
   "execution_count": null,
   "id": "1ee07f25",
   "metadata": {},
   "outputs": [],
   "source": []
  }
 ],
 "metadata": {
  "kernelspec": {
   "display_name": "Python 3 (ipykernel)",
   "language": "python",
   "name": "python3"
  },
  "language_info": {
   "codemirror_mode": {
    "name": "ipython",
    "version": 3
   },
   "file_extension": ".py",
   "mimetype": "text/x-python",
   "name": "python",
   "nbconvert_exporter": "python",
   "pygments_lexer": "ipython3",
   "version": "3.9.12"
  }
 },
 "nbformat": 4,
 "nbformat_minor": 5
}
