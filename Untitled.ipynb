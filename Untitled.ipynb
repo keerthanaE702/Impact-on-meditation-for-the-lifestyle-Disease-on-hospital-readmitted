{
 "cells": [
  {
   "cell_type": "code",
   "execution_count": 10,
   "id": "b26e8a96",
   "metadata": {},
   "outputs": [
    {
     "name": "stdout",
     "output_type": "stream",
     "text": [
      "a\n",
      "n\n",
      "a\n",
      "h\n",
      "t\n",
      "r\n",
      "e\n",
      "e\n",
      "K\n"
     ]
    }
   ],
   "source": [
    "string='Keerthana'\n",
    "var1=list(string)\n",
    "for i in range(len(string)-1,-1,-1):\n",
    "    print(string[i])\n",
    "    "
   ]
  },
  {
   "cell_type": "code",
   "execution_count": null,
   "id": "ac6ce40f",
   "metadata": {},
   "outputs": [],
   "source": []
  }
 ],
 "metadata": {
  "kernelspec": {
   "display_name": "Python 3 (ipykernel)",
   "language": "python",
   "name": "python3"
  },
  "language_info": {
   "codemirror_mode": {
    "name": "ipython",
    "version": 3
   },
   "file_extension": ".py",
   "mimetype": "text/x-python",
   "name": "python",
   "nbconvert_exporter": "python",
   "pygments_lexer": "ipython3",
   "version": "3.9.12"
  }
 },
 "nbformat": 4,
 "nbformat_minor": 5
}
